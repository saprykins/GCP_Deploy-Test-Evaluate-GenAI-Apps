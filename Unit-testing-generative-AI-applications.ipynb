{
  "cells": [
    {
      "cell_type": "code",
      "id": "tKlyXYU66fpc28UAWtxJE8hW",
      "metadata": {
        "tags": [],
        "id": "tKlyXYU66fpc28UAWtxJE8hW",
        "executionInfo": {
          "status": "ok",
          "timestamp": 1733511759098,
          "user_tz": -60,
          "elapsed": 8,
          "user": {
            "displayName": "",
            "userId": ""
          }
        }
      },
      "source": [
        "from IPython.display import clear_output"
      ],
      "execution_count": 1,
      "outputs": []
    },
    {
      "cell_type": "code",
      "source": [
        "!pip install --quiet ipytest"
      ],
      "metadata": {
        "colab": {
          "base_uri": "https://localhost:8080/"
        },
        "id": "lW69cMMXWM-X",
        "executionInfo": {
          "status": "ok",
          "timestamp": 1733511763658,
          "user_tz": -60,
          "elapsed": 4565,
          "user": {
            "displayName": "",
            "userId": ""
          }
        },
        "outputId": "37fa44d9-049a-41e9-e529-214e8e61d7ef"
      },
      "id": "lW69cMMXWM-X",
      "execution_count": 2,
      "outputs": [
        {
          "output_type": "stream",
          "name": "stdout",
          "text": [
            "\u001b[?25l   \u001b[90m━━━━━━━━━━━━━━━━━━━━━━━━━━━━━━━━━━━━━━━━\u001b[0m \u001b[32m0.0/1.6 MB\u001b[0m \u001b[31m?\u001b[0m eta \u001b[36m-:--:--\u001b[0m\r\u001b[2K   \u001b[91m━━━━━━━━━━━━━━━\u001b[0m\u001b[90m╺\u001b[0m\u001b[90m━━━━━━━━━━━━━━━━━━━━━━━━\u001b[0m \u001b[32m0.6/1.6 MB\u001b[0m \u001b[31m18.0 MB/s\u001b[0m eta \u001b[36m0:00:01\u001b[0m\r\u001b[2K   \u001b[90m━━━━━━━━━━━━━━━━━━━━━━━━━━━━━━━━━━━━━━━━\u001b[0m \u001b[32m1.6/1.6 MB\u001b[0m \u001b[31m24.7 MB/s\u001b[0m eta \u001b[36m0:00:00\u001b[0m\n",
            "\u001b[?25h"
          ]
        }
      ]
    },
    {
      "cell_type": "code",
      "source": [
        "project_id = !gcloud config get project\n",
        "project_id = project_id[0]"
      ],
      "metadata": {
        "id": "QgoLZgMTWUM0",
        "executionInfo": {
          "status": "ok",
          "timestamp": 1733511765147,
          "user_tz": -60,
          "elapsed": 1495,
          "user": {
            "displayName": "",
            "userId": ""
          }
        }
      },
      "id": "QgoLZgMTWUM0",
      "execution_count": 3,
      "outputs": []
    },
    {
      "cell_type": "code",
      "source": [
        "import vertexai\n",
        "from vertexai.generative_models import GenerativeModel, GenerationConfig\n",
        "from vertexai.language_models import TextGenerationModel\n",
        "\n",
        "import pytest\n",
        "import ipytest\n",
        "ipytest.autoconfig()"
      ],
      "metadata": {
        "id": "J4Da1z4SWWVP",
        "executionInfo": {
          "status": "ok",
          "timestamp": 1733511776915,
          "user_tz": -60,
          "elapsed": 11772,
          "user": {
            "displayName": "",
            "userId": ""
          }
        }
      },
      "id": "J4Da1z4SWWVP",
      "execution_count": 4,
      "outputs": []
    },
    {
      "cell_type": "code",
      "source": [
        "def test_addition():\n",
        "  assert 2+2 == 4"
      ],
      "metadata": {
        "id": "WeMv8l94Wa4N",
        "executionInfo": {
          "status": "ok",
          "timestamp": 1733511779370,
          "user_tz": -60,
          "elapsed": 3,
          "user": {
            "displayName": "",
            "userId": ""
          }
        }
      },
      "id": "WeMv8l94Wa4N",
      "execution_count": 5,
      "outputs": []
    },
    {
      "cell_type": "code",
      "source": [
        "ipytest.run()"
      ],
      "metadata": {
        "colab": {
          "base_uri": "https://localhost:8080/"
        },
        "id": "boNWmwMAWkeP",
        "executionInfo": {
          "status": "ok",
          "timestamp": 1733511779797,
          "user_tz": -60,
          "elapsed": 430,
          "user": {
            "displayName": "",
            "userId": ""
          }
        },
        "outputId": "a3cd2044-b966-48af-dde9-34b4124d762c"
      },
      "id": "boNWmwMAWkeP",
      "execution_count": 6,
      "outputs": [
        {
          "output_type": "stream",
          "name": "stdout",
          "text": [
            "\u001b[32m.\u001b[0m\u001b[32m                                                                                            [100%]\u001b[0m\n",
            "\u001b[32m\u001b[32m\u001b[1m1 passed\u001b[0m\u001b[32m in 0.02s\u001b[0m\u001b[0m\n"
          ]
        },
        {
          "output_type": "execute_result",
          "data": {
            "text/plain": [
              "<ExitCode.OK: 0>"
            ]
          },
          "metadata": {},
          "execution_count": 6
        }
      ]
    },
    {
      "cell_type": "code",
      "source": [
        "%%writefile prompt_template.txt\n",
        "\n",
        "Respond to the user's query.\n",
        "If the user asks about something other\n",
        "than farming, reply with,\n",
        "\"Sorry, I don't know about that. Ask me something about farming instead.\"\n",
        "\n",
        "Context: {context}\n",
        "\n",
        "User Query: {query}\n",
        "Response:"
      ],
      "metadata": {
        "colab": {
          "base_uri": "https://localhost:8080/"
        },
        "id": "FI_i3ZD4WmKo",
        "executionInfo": {
          "status": "ok",
          "timestamp": 1733511808861,
          "user_tz": -60,
          "elapsed": 5,
          "user": {
            "displayName": "",
            "userId": ""
          }
        },
        "outputId": "8c258117-00df-4a4c-851f-b6c9863fcdf5"
      },
      "id": "FI_i3ZD4WmKo",
      "execution_count": 7,
      "outputs": [
        {
          "output_type": "stream",
          "name": "stdout",
          "text": [
            "Writing prompt_template.txt\n"
          ]
        }
      ]
    },
    {
      "cell_type": "code",
      "source": [
        "@pytest.fixture\n",
        "def prompt_template():\n",
        "  with open(\"prompt_template.txt\", \"r\") as f:\n",
        "    return f.read()"
      ],
      "metadata": {
        "id": "T5k9iNJPWwIR",
        "executionInfo": {
          "status": "ok",
          "timestamp": 1733511828518,
          "user_tz": -60,
          "elapsed": 4,
          "user": {
            "displayName": "",
            "userId": ""
          }
        }
      },
      "id": "T5k9iNJPWwIR",
      "execution_count": 8,
      "outputs": []
    },
    {
      "cell_type": "code",
      "source": [
        "vertexai.init(project=project_id, location=\"us-central1\")\n",
        "\n",
        "gen_config = GenerationConfig(\n",
        "    temperature=0,\n",
        "    top_p=0.6,\n",
        "    candidate_count=1,\n",
        "    max_output_tokens=4096,\n",
        ")\n",
        "gen_model = GenerativeModel(\"gemini-1.5-flash-001\", generation_config=gen_config)\n",
        "\n",
        "eval_config = {\n",
        "        \"temperature\": 0,\n",
        "        \"max_output_tokens\": 1024,\n",
        "        \"top_p\": 0.6,\n",
        "        \"top_k\": 40,\n",
        "    }\n",
        "eval_model = GenerativeModel(\"gemini-1.5-pro-001\", generation_config=eval_config)"
      ],
      "metadata": {
        "id": "43uNEqz1W05u",
        "executionInfo": {
          "status": "ok",
          "timestamp": 1733511869616,
          "user_tz": -60,
          "elapsed": 555,
          "user": {
            "displayName": "",
            "userId": ""
          }
        }
      },
      "id": "43uNEqz1W05u",
      "execution_count": 9,
      "outputs": []
    },
    {
      "cell_type": "code",
      "source": [
        "def test_basic_response(prompt_template):\n",
        "\n",
        "  context = (\"MightyGo unveiled its 2025 model year Arcturus \"\n",
        "             + \"tractor line at the Salt of the Earth Farm Expo in \"\n",
        "             + \"Málaga in late June.\")\n",
        "\n",
        "  query = \"What is the name of the new tractor model?\"\n",
        "\n",
        "  evaluation_prompt = \"\"\"\n",
        "    Has the query been answered by the provided_response?\n",
        "    The new tractor model is the Arcturus.\n",
        "    Respond with only one word: yes or no\n",
        "\n",
        "    query: {query}\n",
        "    provided_response: {provided_response}\n",
        "    evaluation: \"\"\"\n",
        "\n",
        "  prompt = prompt_template.format(context=context, query=query)\n",
        "\n",
        "  response = gen_model.generate_content(prompt)\n",
        "  print(response.text)\n",
        "  ep = evaluation_prompt.format(query=query, provided_response=response.text)\n",
        "  evaluation = eval_model.generate_content(ep)\n",
        "\n",
        "  assert evaluation.text.strip() == \"yes\""
      ],
      "metadata": {
        "id": "FtcRxvrQW-3X",
        "executionInfo": {
          "status": "ok",
          "timestamp": 1733511917943,
          "user_tz": -60,
          "elapsed": 397,
          "user": {
            "displayName": "",
            "userId": ""
          }
        }
      },
      "id": "FtcRxvrQW-3X",
      "execution_count": 10,
      "outputs": []
    },
    {
      "cell_type": "code",
      "source": [
        "ipytest.run('-rP')"
      ],
      "metadata": {
        "colab": {
          "base_uri": "https://localhost:8080/"
        },
        "id": "NSw526RiXKzh",
        "executionInfo": {
          "status": "ok",
          "timestamp": 1733511926413,
          "user_tz": -60,
          "elapsed": 878,
          "user": {
            "displayName": "",
            "userId": ""
          }
        },
        "outputId": "3da216f4-c1c8-43fe-ae0b-0e317bf3b4f9"
      },
      "id": "NSw526RiXKzh",
      "execution_count": 11,
      "outputs": [
        {
          "output_type": "stream",
          "name": "stdout",
          "text": [
            "\u001b[32m.\u001b[0m\u001b[32m.\u001b[0m\u001b[32m                                                                                           [100%]\u001b[0m\n",
            "============================================== PASSES ==============================================\n",
            "\u001b[32m\u001b[1m_______________________________________ test_basic_response ________________________________________\u001b[0m\n",
            "--------------------------------------- Captured stdout call ---------------------------------------\n",
            "The new tractor model is called the **Arcturus**. \n",
            "\n",
            "\u001b[32m\u001b[32m\u001b[1m2 passed\u001b[0m\u001b[32m in 1.05s\u001b[0m\u001b[0m\n"
          ]
        },
        {
          "output_type": "execute_result",
          "data": {
            "text/plain": [
              "<ExitCode.OK: 0>"
            ]
          },
          "metadata": {},
          "execution_count": 11
        }
      ]
    },
    {
      "cell_type": "code",
      "source": [
        "expo_prompt = \"Please write one paragraph about Frank Sinatra.\"\n",
        "response = gen_model.generate_content(expo_prompt)\n",
        "print(response.text)"
      ],
      "metadata": {
        "colab": {
          "base_uri": "https://localhost:8080/"
        },
        "id": "Tut5_Y6RXMng",
        "executionInfo": {
          "status": "ok",
          "timestamp": 1733511957527,
          "user_tz": -60,
          "elapsed": 924,
          "user": {
            "displayName": "",
            "userId": ""
          }
        },
        "outputId": "3e5cb529-7ce7-4d8d-d392-6f6bb3ad02df"
      },
      "id": "Tut5_Y6RXMng",
      "execution_count": 12,
      "outputs": [
        {
          "output_type": "stream",
          "name": "stdout",
          "text": [
            "Frank Sinatra, the \"Chairman of the Board,\" was a legendary American singer and actor who captivated audiences with his smooth baritone voice and charismatic stage presence. From his early days as a crooner with the Tommy Dorsey Orchestra to his solo career that spanned decades, Sinatra's music became synonymous with the \"Rat Pack\" era and the golden age of Hollywood. His iconic hits, including \"My Way,\" \"New York, New York,\" and \"Fly Me to the Moon,\" continue to be beloved classics, cementing his status as one of the most influential and enduring figures in popular music history. \n",
            "\n"
          ]
        }
      ]
    },
    {
      "cell_type": "code",
      "source": [
        "def test_staying_on_topic(prompt_template):\n",
        "  evaluation_prompt = \"\"\"\n",
        "    Does the response decline to discuss a non-farming related topic\n",
        "    and encourage the user to ask about farming instead?\n",
        "    Respond with only one word: yes or no\n",
        "\n",
        "    query: {query}\n",
        "    provided_response: {provided_response}\n",
        "    evaluation: \"\"\"\n",
        "\n",
        "  context = (\"MightyGo unveiled its 2025 model year Arcturus \"\n",
        "             + \"tractor line at the Salt of the Earth Farm Expo in \"\n",
        "             + \"Málaga in late June.\")\n",
        "\n",
        "  query = \"Please write one paragraph about Frank Sinatra.\"\n",
        "\n",
        "  prompt = prompt_template.format(context=context, query=query)\n",
        "\n",
        "  response = gen_model.generate_content(prompt)\n",
        "  print(response.text)\n",
        "  ep = evaluation_prompt.format(query=query, provided_response=response.text)\n",
        "  evaluation = eval_model.generate_content(ep)\n",
        "\n",
        "  assert evaluation.text.strip() == \"yes\""
      ],
      "metadata": {
        "id": "ZX9sycxUXURN",
        "executionInfo": {
          "status": "ok",
          "timestamp": 1733511984250,
          "user_tz": -60,
          "elapsed": 4,
          "user": {
            "displayName": "",
            "userId": ""
          }
        }
      },
      "id": "ZX9sycxUXURN",
      "execution_count": 14,
      "outputs": []
    },
    {
      "cell_type": "code",
      "source": [
        "ipytest.run('-rP')"
      ],
      "metadata": {
        "colab": {
          "base_uri": "https://localhost:8080/"
        },
        "id": "gJaWuPDDXZJp",
        "executionInfo": {
          "status": "ok",
          "timestamp": 1733512003205,
          "user_tz": -60,
          "elapsed": 1726,
          "user": {
            "displayName": "",
            "userId": ""
          }
        },
        "outputId": "798d9751-69f9-41f5-e8b3-e39794a6d3b5"
      },
      "id": "gJaWuPDDXZJp",
      "execution_count": 15,
      "outputs": [
        {
          "output_type": "stream",
          "name": "stdout",
          "text": [
            "\u001b[32m.\u001b[0m\u001b[32m.\u001b[0m\u001b[32m.\u001b[0m\u001b[32m                                                                                          [100%]\u001b[0m\n",
            "============================================== PASSES ==============================================\n",
            "\u001b[32m\u001b[1m_______________________________________ test_basic_response ________________________________________\u001b[0m\n",
            "--------------------------------------- Captured stdout call ---------------------------------------\n",
            "The new tractor model is called the **Arcturus**. \n",
            "\n",
            "\u001b[32m\u001b[1m______________________________________ test_staying_on_topic _______________________________________\u001b[0m\n",
            "--------------------------------------- Captured stdout call ---------------------------------------\n",
            "Sorry, I don't know about that. Ask me something about farming instead. \n",
            "\n",
            "\u001b[32m\u001b[32m\u001b[1m3 passed\u001b[0m\u001b[32m in 1.87s\u001b[0m\u001b[0m\n"
          ]
        },
        {
          "output_type": "execute_result",
          "data": {
            "text/plain": [
              "<ExitCode.OK: 0>"
            ]
          },
          "metadata": {},
          "execution_count": 15
        }
      ]
    },
    {
      "cell_type": "code",
      "source": [
        "expo_prompt = \"What cities have hosted farm expos?\"\n",
        "response = gen_model.generate_content(expo_prompt)\n",
        "print(response.text)"
      ],
      "metadata": {
        "colab": {
          "base_uri": "https://localhost:8080/"
        },
        "id": "kh-9aBwaXfGq",
        "executionInfo": {
          "status": "ok",
          "timestamp": 1733512026959,
          "user_tz": -60,
          "elapsed": 2165,
          "user": {
            "displayName": "",
            "userId": ""
          }
        },
        "outputId": "3b795f47-b6c3-4795-9338-1f5dccf939f6"
      },
      "id": "kh-9aBwaXfGq",
      "execution_count": 16,
      "outputs": [
        {
          "output_type": "stream",
          "name": "stdout",
          "text": [
            "It's impossible to list every city that has ever hosted a farm expo, as there are countless events happening all over the world. However, some of the most well-known and prominent farm expos are held in these cities:\n",
            "\n",
            "**North America:**\n",
            "\n",
            "* **Louisville, Kentucky:** Home to the **National Farm Machinery Show**, one of the largest indoor farm shows in the world.\n",
            "* **Des Moines, Iowa:** Hosts the **Iowa State Fair**, a major agricultural event with a strong focus on farming.\n",
            "* **Indianapolis, Indiana:** The **National FFA Convention** is held here annually, attracting thousands of young farmers and agricultural enthusiasts.\n",
            "* **Kansas City, Missouri:** The **National Farm Machinery Show** also has a location here.\n",
            "* **Chicago, Illinois:** The **National Farm Machinery Show** also has a location here.\n",
            "* **Fresno, California:** Hosts the **World Ag Expo**, one of the largest outdoor farm shows in the world.\n",
            "* **Calgary, Alberta, Canada:** Home to the **Calgary Stampede**, a large rodeo and agricultural event.\n",
            "\n",
            "**Europe:**\n",
            "\n",
            "* **Hannover, Germany:** Hosts the **Agritechnica**, the world's leading trade fair for agricultural machinery.\n",
            "* **Paris, France:** The **SIMA** (Salon International de la Machine Agricole) is a major agricultural machinery trade show held here.\n",
            "* **Bologna, Italy:** Hosts the **EIMA International**, a major agricultural machinery trade show.\n",
            "* **Amsterdam, Netherlands:** The **GreenTech Amsterdam** is a leading trade show for horticulture and technology.\n",
            "\n",
            "**Asia:**\n",
            "\n",
            "* **Beijing, China:** Hosts the **China International Agricultural Machinery Show**, one of the largest agricultural machinery trade shows in Asia.\n",
            "* **Bangkok, Thailand:** The **Thailand International Agro Industry Expo & Forum** is a major agricultural event in Southeast Asia.\n",
            "* **New Delhi, India:** The **India International Agriculture Show** is a major agricultural event in India.\n",
            "\n",
            "**Australia:**\n",
            "\n",
            "* **Sydney, Australia:** Hosts the **Royal Easter Show**, a large agricultural event with a focus on livestock and produce.\n",
            "* **Melbourne, Australia:** The **Royal Melbourne Show** is another major agricultural event in Australia.\n",
            "\n",
            "This is just a small sample of the many cities that host farm expos. To find specific events in your area, you can search online for \"farm expos\" or \"agricultural shows\" in your region. \n",
            "\n"
          ]
        }
      ]
    },
    {
      "cell_type": "code",
      "source": [
        "def test_answering_only_from_context(prompt_template):\n",
        "  evaluation_prompt = \"\"\"\n",
        "    Does the provided_response answer the query\n",
        "    as well as possible without adding information\n",
        "    that does not appear in the context?\n",
        "    Respond with only one word: yes or no\n",
        "\n",
        "    query: {query}\n",
        "    context: {context}\n",
        "    provided_response: {provided_response}\n",
        "    evaluation: \"\"\"\n",
        "\n",
        "  context = (\"MightyGo unveiled its 2025 model year Arcturus \"\n",
        "             + \"tractor line at the Salt of the Earth Farm Expo in \"\n",
        "             + \"Málaga in late June.\")\n",
        "\n",
        "  query = \"What cities have hosted Farm Expos?\"\n",
        "\n",
        "  prompt = prompt_template.format(context=context, query=query)\n",
        "\n",
        "  response = gen_model.generate_content(prompt)\n",
        "  print(response.text)\n",
        "  ep = evaluation_prompt.format(query=query, context=context, provided_response=response.text)\n",
        "  evaluation = eval_model.generate_content(ep)\n",
        "\n",
        "  assert evaluation.text == \"yes\""
      ],
      "metadata": {
        "id": "9WiD85K-XkuZ",
        "executionInfo": {
          "status": "ok",
          "timestamp": 1733512032785,
          "user_tz": -60,
          "elapsed": 4,
          "user": {
            "displayName": "",
            "userId": ""
          }
        }
      },
      "id": "9WiD85K-XkuZ",
      "execution_count": 17,
      "outputs": []
    },
    {
      "cell_type": "code",
      "source": [
        "ipytest.run('-rP')"
      ],
      "metadata": {
        "colab": {
          "base_uri": "https://localhost:8080/"
        },
        "id": "3fh_MKy2Xmto",
        "executionInfo": {
          "status": "ok",
          "timestamp": 1733512041905,
          "user_tz": -60,
          "elapsed": 3152,
          "user": {
            "displayName": "",
            "userId": ""
          }
        },
        "outputId": "070ae08d-92a6-428a-c445-7397d4b1067d"
      },
      "id": "3fh_MKy2Xmto",
      "execution_count": 18,
      "outputs": [
        {
          "output_type": "stream",
          "name": "stdout",
          "text": [
            "\u001b[32m.\u001b[0m\u001b[32m.\u001b[0m\u001b[32m.\u001b[0m\u001b[31mF\u001b[0m\u001b[31m                                                                                         [100%]\u001b[0m\n",
            "============================================= FAILURES =============================================\n",
            "\u001b[31m\u001b[1m_________________________________ test_answering_only_from_context _________________________________\u001b[0m\n",
            "\n",
            "prompt_template = '\\nRespond to the user\\'s query.\\nIf the user asks about something other\\nthan farming, reply with,\\n\"Sorry, I don\\'t know about that. Ask me something about farming instead.\"\\n\\nContext: {context}\\n\\nUser Query: {query}\\nResponse:\\n'\n",
            "\n",
            "    \u001b[0m\u001b[94mdef\u001b[39;49;00m \u001b[92mtest_answering_only_from_context\u001b[39;49;00m(prompt_template):\u001b[90m\u001b[39;49;00m\n",
            "      evaluation_prompt = \u001b[33m\"\"\"\u001b[39;49;00m\u001b[33m\u001b[39;49;00m\n",
            "    \u001b[33m    Does the provided_response answer the query\u001b[39;49;00m\u001b[33m\u001b[39;49;00m\n",
            "    \u001b[33m    as well as possible without adding information\u001b[39;49;00m\u001b[33m\u001b[39;49;00m\n",
            "    \u001b[33m    that does not appear in the context?\u001b[39;49;00m\u001b[33m\u001b[39;49;00m\n",
            "    \u001b[33m    Respond with only one word: yes or no\u001b[39;49;00m\u001b[33m\u001b[39;49;00m\n",
            "    \u001b[33m\u001b[39;49;00m\n",
            "    \u001b[33m    query: \u001b[39;49;00m\u001b[33m{query}\u001b[39;49;00m\u001b[33m\u001b[39;49;00m\n",
            "    \u001b[33m    context: \u001b[39;49;00m\u001b[33m{context}\u001b[39;49;00m\u001b[33m\u001b[39;49;00m\n",
            "    \u001b[33m    provided_response: \u001b[39;49;00m\u001b[33m{provided_response}\u001b[39;49;00m\u001b[33m\u001b[39;49;00m\n",
            "    \u001b[33m    evaluation: \u001b[39;49;00m\u001b[33m\"\"\"\u001b[39;49;00m\u001b[90m\u001b[39;49;00m\n",
            "    \u001b[90m\u001b[39;49;00m\n",
            "      context = (\u001b[33m\"\u001b[39;49;00m\u001b[33mMightyGo unveiled its 2025 model year Arcturus \u001b[39;49;00m\u001b[33m\"\u001b[39;49;00m\u001b[90m\u001b[39;49;00m\n",
            "                 + \u001b[33m\"\u001b[39;49;00m\u001b[33mtractor line at the Salt of the Earth Farm Expo in \u001b[39;49;00m\u001b[33m\"\u001b[39;49;00m\u001b[90m\u001b[39;49;00m\n",
            "                 + \u001b[33m\"\u001b[39;49;00m\u001b[33mMálaga in late June.\u001b[39;49;00m\u001b[33m\"\u001b[39;49;00m)\u001b[90m\u001b[39;49;00m\n",
            "    \u001b[90m\u001b[39;49;00m\n",
            "      query = \u001b[33m\"\u001b[39;49;00m\u001b[33mWhat cities have hosted Farm Expos?\u001b[39;49;00m\u001b[33m\"\u001b[39;49;00m\u001b[90m\u001b[39;49;00m\n",
            "    \u001b[90m\u001b[39;49;00m\n",
            "      prompt = prompt_template.format(context=context, query=query)\u001b[90m\u001b[39;49;00m\n",
            "    \u001b[90m\u001b[39;49;00m\n",
            "      response = gen_model.generate_content(prompt)\u001b[90m\u001b[39;49;00m\n",
            "      \u001b[96mprint\u001b[39;49;00m(response.text)\u001b[90m\u001b[39;49;00m\n",
            "      ep = evaluation_prompt.format(query=query, context=context, provided_response=response.text)\u001b[90m\u001b[39;49;00m\n",
            "      evaluation = eval_model.generate_content(ep)\u001b[90m\u001b[39;49;00m\n",
            "    \u001b[90m\u001b[39;49;00m\n",
            ">     \u001b[94massert\u001b[39;49;00m evaluation.text == \u001b[33m\"\u001b[39;49;00m\u001b[33myes\u001b[39;49;00m\u001b[33m\"\u001b[39;49;00m\u001b[90m\u001b[39;49;00m\n",
            "\u001b[1m\u001b[31mE     AssertionError: assert 'no' == 'yes'\u001b[0m\n",
            "\u001b[1m\u001b[31mE       \u001b[0m\n",
            "\u001b[1m\u001b[31mE       - yes\u001b[0m\n",
            "\u001b[1m\u001b[31mE       + no\u001b[0m\n",
            "\n",
            "\u001b[1m\u001b[31m<ipython-input-17-c0f7ef50d080>\u001b[0m:26: AssertionError\n",
            "--------------------------------------- Captured stdout call ---------------------------------------\n",
            "Sorry, I don't know about that. Ask me something about farming instead. \n",
            "\n",
            "============================================== PASSES ==============================================\n",
            "\u001b[32m\u001b[1m_______________________________________ test_basic_response ________________________________________\u001b[0m\n",
            "--------------------------------------- Captured stdout call ---------------------------------------\n",
            "The new tractor model is called the **Arcturus**. \n",
            "\n",
            "\u001b[32m\u001b[1m______________________________________ test_staying_on_topic _______________________________________\u001b[0m\n",
            "--------------------------------------- Captured stdout call ---------------------------------------\n",
            "Sorry, I don't know about that. Ask me something about farming instead. \n",
            "\n",
            "\u001b[31m\u001b[31m\u001b[1m1 failed\u001b[0m, \u001b[32m3 passed\u001b[0m\u001b[31m in 2.88s\u001b[0m\u001b[0m\n"
          ]
        },
        {
          "output_type": "execute_result",
          "data": {
            "text/plain": [
              "<ExitCode.TESTS_FAILED: 1>"
            ]
          },
          "metadata": {},
          "execution_count": 18
        }
      ]
    },
    {
      "cell_type": "code",
      "source": [
        "%%writefile prompt_template.txt\n",
        "\n",
        "Respond to the user's query.\n",
        "You should only talk about the following things:\n",
        "- farming\n",
        "- farming techniques\n",
        "- farm-related events\n",
        "- farm-related news\n",
        "- agricultural events\n",
        "- agricultural industry\n",
        "If the user asks about something that is not related to farms,\n",
        "ask yourself again if it might be related to farms or the\n",
        "agricultural industry. If you still believe the query is\n",
        "not related to farms or agriculture, respond with:\n",
        "\"Sorry, I don't know about that. Ask me something about farming instead.\"\n",
        "When answering, use only information included in the context.\n",
        "\n",
        "Context: {context}\n",
        "\n",
        "User Query: {query}\n",
        "Response:"
      ],
      "metadata": {
        "id": "H_l7BvHDXocX",
        "executionInfo": {
          "status": "ok",
          "timestamp": 1733512066886,
          "user_tz": -60,
          "elapsed": 618,
          "user": {
            "displayName": "",
            "userId": ""
          }
        },
        "outputId": "f468b1f7-9692-454e-c90e-9ed531f5286e",
        "colab": {
          "base_uri": "https://localhost:8080/"
        }
      },
      "id": "H_l7BvHDXocX",
      "execution_count": 19,
      "outputs": [
        {
          "output_type": "stream",
          "name": "stdout",
          "text": [
            "Overwriting prompt_template.txt\n"
          ]
        }
      ]
    },
    {
      "cell_type": "code",
      "source": [],
      "metadata": {
        "id": "pw_9CfEsXvEm"
      },
      "id": "pw_9CfEsXvEm",
      "execution_count": null,
      "outputs": []
    }
  ],
  "metadata": {
    "kernelspec": {
      "display_name": "Python 3",
      "language": "python",
      "name": "python3"
    },
    "language_info": {
      "codemirror_mode": {
        "name": "ipython",
        "version": 3
      },
      "file_extension": ".py",
      "mimetype": "text/x-python",
      "name": "python",
      "nbconvert_exporter": "python",
      "pygments_lexer": "ipython3",
      "version": "3.10.10"
    },
    "colab": {
      "provenance": [],
      "name": "student-03-3f363a434c05 (Dec 6, 2024, 8:00:51 PM)"
    }
  },
  "nbformat": 4,
  "nbformat_minor": 5
}